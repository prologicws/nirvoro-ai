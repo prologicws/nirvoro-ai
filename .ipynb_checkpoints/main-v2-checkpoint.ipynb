{
 "cells": [
  {
   "cell_type": "code",
   "execution_count": 2,
   "id": "4f8e5259-c8c6-45a8-af4b-3c346e5d9c96",
   "metadata": {},
   "outputs": [],
   "source": [
    "import requests\n",
    "from pymongo import MongoClient\n",
    "import datetime\n"
   ]
  },
  {
   "cell_type": "code",
   "execution_count": 3,
   "id": "56f522ef-f18d-4855-a715-2f95746684c8",
   "metadata": {},
   "outputs": [],
   "source": [
    "# Event Registry API details\n",
    "API_URL = \"https://eventregistry.org/api/v1/article/getArticles\"\n",
    "API_KEY = \"9d8ccead-0c1f-448f-9ceb-b85f4def0063\"\n"
   ]
  },
  {
   "cell_type": "code",
   "execution_count": 6,
   "id": "bac09925-78e9-4514-b4c0-f324caef8fec",
   "metadata": {},
   "outputs": [],
   "source": [
    "# MongoDB Setup\n",
    "client = MongoClient('mongodb://localhost:27017/')  # Update with your MongoDB connection URI\n",
    "db = client['news_database']\n",
    "collection = db['news_articles']"
   ]
  },
  {
   "cell_type": "code",
   "execution_count": 8,
   "id": "d5a7687f-938d-4c1b-978a-af047581ba49",
   "metadata": {},
   "outputs": [],
   "source": [
    "def is_duplicate_article(new_article, existing_articles):\n",
    "    \"\"\"\n",
    "    Check if the new article is a duplicate based on title similarity and source.\n",
    "    If the title matches exactly and the source is the same, it's considered a duplicate.\n",
    "    \"\"\"\n",
    "    for article_item in existing_articles:\n",
    "        # Ensure the existing article has a title and source\n",
    "        if 'title' in article_item and 'source' in article_item:\n",
    "            if article_item['title_or'] == new_article['title_or'] and article_item['source'] == new_article['source']:\n",
    "                print(f\"Duplicate title found in the same source: {article_item['title_or']} (Source: {article_item['source']})\")\n",
    "                return True\n",
    "        else:\n",
    "            # If either title or source is missing, we can't reliably check for duplicates\n",
    "            continue\n",
    "            \n",
    "    return False\n"
   ]
  },
  {
   "cell_type": "code",
   "execution_count": 10,
   "id": "dabc9332-e829-4ee4-82ad-4d2a89ad6127",
   "metadata": {},
   "outputs": [],
   "source": [
    "def determine_category(article_content):\n",
    "    \"\"\"\n",
    "    Determines the category of the article based on its content.\n",
    "    \"\"\"\n",
    "    # Define keywords for each category\n",
    "    categories = {\n",
    "        #\"Breaking\": [\"breaking\", \"urgent\", \"just in\"],\n",
    "        \"World\": [\"government\", \"policy\", \"election\", \"political\", \"politics\", \"weather\", \"storm\", \"temperature\", \"forecast\", \"climate\", \"environment\", \"sustainability\", \"nature\"],\n",
    "        \"Business\": [\"business\", \"market\", \"stocks\", \"finance\", \"economy\"],\n",
    "        \"Technology\": [\"research\", \"scientists\", \"study\", \"laboratory\", \"experiment\", \"science\"],\n",
    "        \"Sports\": [\"game\", \"match\", \"tournament\", \"league\", \"athlete\"],\n",
    "        #\"Art & Culture\": [\"art\", \"museum\", \"culture\", \"festival\", \"heritage\"],\n",
    "        \"Entertainment\": [\"celebrity\", \"movie\", \"music\", \"show\", \"award\", \"art\", \"museum\", \"culture\", \"festival\", \"heritage\", \"travel\", \"tourism\", \"destination\", \"flight\", \"hotel\"],\n",
    "        #\"Travel\": [\"travel\", \"tourism\", \"destination\", \"flight\", \"hotel\"],\n",
    "        #\"Weather\": [\"weather\", \"storm\", \"temperature\", \"forecast\"],\n",
    "        #\"Earth\": [\"climate\", \"environment\", \"sustainability\", \"nature\"],\n",
    "        #\"Local\": [\"local\", \"community\", \"neighborhood\", \"town\"]\n",
    "    }\n",
    "\n",
    "    # Default category\n",
    "    assigned_category = \"World\"\n",
    "\n",
    "    # Check for category keywords\n",
    "    for category, keywords in categories.items():\n",
    "        if any(keyword in article_content.lower() for keyword in keywords):\n",
    "            assigned_category = category\n",
    "            break\n",
    "    print(f\"Assigned category: {assigned_category}\")\n",
    "    return assigned_category\n",
    "\n",
    "# Example usage with an article\n",
    "#article_content = \"\"\"The government has announced a new policy that will affect the election process.\"\"\"\n",
    "#category = determine_category(article_content)\n",
    "#print(f\"Assigned category: {category}\")  # Should print \"Politics\"\n"
   ]
  },
  {
   "cell_type": "code",
   "execution_count": 16,
   "id": "74a227cb-fffd-403a-904e-116b5a42a08a",
   "metadata": {},
   "outputs": [],
   "source": [
    "# API request payload\n",
    "def parse_feed():\n",
    "    payload = {\n",
    "        \"action\": \"getArticles\",\n",
    "        \"keyword\": \"Tesla Inc\",\n",
    "        \"sourceLocationUri\": [\n",
    "            \"http://en.wikipedia.org/wiki/United_States\",\n",
    "            \"http://en.wikipedia.org/wiki/United_Kingdom\",\n",
    "            \"https://en.wikipedia.org/wiki/India\"\n",
    "        ],\n",
    "        \"ignoreSourceGroupUri\": \"paywall/paywalled_sources\",\n",
    "        \"articlesPage\": 1,\n",
    "        \"articlesCount\": 100,\n",
    "        \"articlesSortBy\": \"date\",\n",
    "        \"articlesSortByAsc\": False,\n",
    "        \"dataType\": [\"news\", \"pr\"],\n",
    "        \"forceMaxDataTimeWindow\": 31,\n",
    "        \"resultType\": \"articles\",\n",
    "        \"apiKey\": API_KEY\n",
    "    }\n",
    "    \n",
    "    # Fetch data from the API\n",
    "    response = requests.post(API_URL, json=payload)\n",
    "    if response.status_code != 200:\n",
    "        print(\"Error fetching data:\", response.status_code, response.text)\n",
    "        exit()\n",
    "    \n",
    "    # Parse response JSON\n",
    "    data = response.json()\n",
    "    articles = data.get(\"articles\", {}).get(\"results\", [])\n",
    "    print(len(articles))\n",
    "    "
   ]
  },
  {
   "cell_type": "code",
   "execution_count": 18,
   "id": "69a0255d-f6d2-41db-b076-66ace4de209c",
   "metadata": {},
   "outputs": [
    {
     "name": "stdout",
     "output_type": "stream",
     "text": [
      "100\n"
     ]
    }
   ],
   "source": [
    "if __name__ == \"__main__\":\n",
    "    parse_feed()"
   ]
  }
 ],
 "metadata": {
  "kernelspec": {
   "display_name": "Python 3 (ipykernel)",
   "language": "python",
   "name": "python3"
  },
  "language_info": {
   "codemirror_mode": {
    "name": "ipython",
    "version": 3
   },
   "file_extension": ".py",
   "mimetype": "text/x-python",
   "name": "python",
   "nbconvert_exporter": "python",
   "pygments_lexer": "ipython3",
   "version": "3.11.8"
  }
 },
 "nbformat": 4,
 "nbformat_minor": 5
}
