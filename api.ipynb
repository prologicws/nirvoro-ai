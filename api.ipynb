{
 "cells": [
  {
   "cell_type": "code",
   "execution_count": 1,
   "id": "e17d689e",
   "metadata": {},
   "outputs": [
    {
     "name": "stdout",
     "output_type": "stream",
     "text": [
      "Requirement already satisfied: Flask in /Users/dibyendu/anaconda3/lib/python3.11/site-packages (2.2.2)\n",
      "Requirement already satisfied: pymongo in /Users/dibyendu/anaconda3/lib/python3.11/site-packages (4.10.1)\n",
      "Requirement already satisfied: python-dateutil in /Users/dibyendu/anaconda3/lib/python3.11/site-packages (2.8.2)\n",
      "Requirement already satisfied: Werkzeug>=2.2.2 in /Users/dibyendu/anaconda3/lib/python3.11/site-packages (from Flask) (2.2.3)\n",
      "Requirement already satisfied: Jinja2>=3.0 in /Users/dibyendu/anaconda3/lib/python3.11/site-packages (from Flask) (3.1.2)\n",
      "Requirement already satisfied: itsdangerous>=2.0 in /Users/dibyendu/anaconda3/lib/python3.11/site-packages (from Flask) (2.0.1)\n",
      "Requirement already satisfied: click>=8.0 in /Users/dibyendu/anaconda3/lib/python3.11/site-packages (from Flask) (8.0.4)\n",
      "Requirement already satisfied: dnspython<3.0.0,>=1.16.0 in /Users/dibyendu/anaconda3/lib/python3.11/site-packages (from pymongo) (2.7.0)\n",
      "Requirement already satisfied: six>=1.5 in /Users/dibyendu/anaconda3/lib/python3.11/site-packages (from python-dateutil) (1.16.0)\n",
      "Requirement already satisfied: MarkupSafe>=2.0 in /Users/dibyendu/anaconda3/lib/python3.11/site-packages (from Jinja2>=3.0->Flask) (2.1.1)\n",
      "Requirement already satisfied: parso in /Users/dibyendu/anaconda3/lib/python3.11/site-packages (0.8.4)\n",
      "Requirement already satisfied: jedi in /Users/dibyendu/anaconda3/lib/python3.11/site-packages (0.18.0)\n",
      "Collecting jedi\n",
      "  Obtaining dependency information for jedi from https://files.pythonhosted.org/packages/20/9f/bc63f0f0737ad7a60800bfd472a4836661adae21f9c2535f3957b1e54ceb/jedi-0.19.1-py2.py3-none-any.whl.metadata\n",
      "  Using cached jedi-0.19.1-py2.py3-none-any.whl.metadata (22 kB)\n",
      "Using cached jedi-0.19.1-py2.py3-none-any.whl (1.6 MB)\n",
      "Installing collected packages: jedi\n",
      "  Attempting uninstall: jedi\n",
      "    Found existing installation: jedi 0.18.0\n",
      "    Uninstalling jedi-0.18.0:\n",
      "      Successfully uninstalled jedi-0.18.0\n",
      "\u001b[31mERROR: pip's dependency resolver does not currently take into account all the packages that are installed. This behaviour is the source of the following dependency conflicts.\n",
      "spyder 5.4.3 requires pyqt5<5.16, which is not installed.\n",
      "spyder 5.4.3 requires pyqtwebengine<5.16, which is not installed.\n",
      "python-lsp-server 1.7.2 requires jedi<0.19.0,>=0.17.2, but you have jedi 0.19.1 which is incompatible.\n",
      "ipywidgets 7.8.1 requires jupyterlab-widgets<3,>=1.0.0; python_version >= \"3.6\", but you have jupyterlab-widgets 3.0.10 which is incompatible.\n",
      "ipywidgets 7.8.1 requires widgetsnbextension~=3.6.6, but you have widgetsnbextension 4.0.10 which is incompatible.\n",
      "python-lsp-black 1.2.1 requires black>=22.3.0, but you have black 0.0 which is incompatible.\n",
      "spyder 5.4.3 requires jedi<0.19.0,>=0.17.2, but you have jedi 0.19.1 which is incompatible.\u001b[0m\u001b[31m\n",
      "\u001b[0mSuccessfully installed jedi-0.19.1\n"
     ]
    }
   ],
   "source": [
    "!pip install Flask pymongo python-dateutil\n",
    "!pip install --upgrade parso jedi"
   ]
  },
  {
   "cell_type": "code",
   "execution_count": 2,
   "id": "0bf07154",
   "metadata": {},
   "outputs": [],
   "source": [
    "from flask import Flask, request, jsonify\n",
    "from pymongo import MongoClient\n",
    "from dateutil import parser\n",
    "import re"
   ]
  },
  {
   "cell_type": "code",
   "execution_count": 3,
   "id": "38a9f1b6",
   "metadata": {},
   "outputs": [],
   "source": [
    "app = Flask(__name__)"
   ]
  },
  {
   "cell_type": "code",
   "execution_count": 4,
   "id": "d9afb677",
   "metadata": {},
   "outputs": [],
   "source": [
    "# MongoDB Setup\n",
    "client = MongoClient('mongodb://localhost:27017/')  # Update with your MongoDB connection URI\n",
    "db = client['news_database']\n",
    "collection = db['news_articles']"
   ]
  },
  {
   "cell_type": "code",
   "execution_count": 5,
   "id": "8fed7416",
   "metadata": {},
   "outputs": [],
   "source": [
    "# Function to clean and parse published_time\n",
    "def normalize_published_time(published_time):\n",
    "    # Remove unwanted text like \"Updated\"\n",
    "    cleaned_time = re.sub(r\"Updated|\\s+\", \" \", published_time).strip()\n",
    "    \n",
    "    try:\n",
    "        # Parse date using dateutil.parser\n",
    "        parsed_date = parser.parse(cleaned_time)\n",
    "        return parsed_date.isoformat()  # Convert to ISO format for MongoDB\n",
    "    except (parser.ParserError, ValueError):\n",
    "        return None"
   ]
  },
  {
   "cell_type": "code",
   "execution_count": 6,
   "id": "9aa5acae",
   "metadata": {},
   "outputs": [],
   "source": [
    "@app.route('/api/news', methods=['GET'])\n",
    "def get_news():\n",
    "    # Fetch query parameters for filters and pagination\n",
    "    category = request.args.get('category')\n",
    "    source = request.args.get('source')\n",
    "    page = int(request.args.get('page', 1))\n",
    "    limit = int(request.args.get('limit', 10))\n",
    "\n",
    "    # Build MongoDB query\n",
    "    query = {}\n",
    "    if category:\n",
    "        query[\"category\"] = category\n",
    "    if source:\n",
    "        query[\"source\"] = source\n",
    "\n",
    "    # Calculate skip for pagination\n",
    "    skip = (page - 1) * limit\n",
    "\n",
    "    # Query the database with filters and pagination\n",
    "    news_cursor = news_collection.find(query).skip(skip).limit(limit)\n",
    "    news_list = []\n",
    "\n",
    "    for news in news_cursor:\n",
    "        # Parse and normalize the published_time field\n",
    "        news['published_time'] = normalize_published_time(news.get('published_time', ''))\n",
    "        news_list.append(news)\n",
    "\n",
    "    return jsonify(news_list)"
   ]
  },
  {
   "cell_type": "code",
   "execution_count": 7,
   "id": "e0f8a9be",
   "metadata": {},
   "outputs": [
    {
     "name": "stdout",
     "output_type": "stream",
     "text": [
      " * Serving Flask app '__main__'\n",
      " * Debug mode: on\n"
     ]
    },
    {
     "name": "stderr",
     "output_type": "stream",
     "text": [
      "WARNING: This is a development server. Do not use it in a production deployment. Use a production WSGI server instead.\n",
      " * Running on http://127.0.0.1:5000\n",
      "Press CTRL+C to quit\n",
      " * Restarting with watchdog (fsevents)\n",
      "Traceback (most recent call last):\n",
      "  File \"/Users/dibyendu/anaconda3/lib/python3.11/site-packages/ipykernel_launcher.py\", line 15, in <module>\n",
      "    from ipykernel import kernelapp as app\n",
      "  File \"/Users/dibyendu/anaconda3/lib/python3.11/site-packages/ipykernel/kernelapp.py\", line 19, in <module>\n",
      "    from IPython.core.application import (  # type:ignore[attr-defined]\n",
      "  File \"/Users/dibyendu/anaconda3/lib/python3.11/site-packages/IPython/__init__.py\", line 54, in <module>\n",
      "    from .terminal.embed import embed\n",
      "  File \"/Users/dibyendu/anaconda3/lib/python3.11/site-packages/IPython/terminal/embed.py\", line 16, in <module>\n",
      "    from IPython.terminal.interactiveshell import TerminalInteractiveShell\n",
      "  File \"/Users/dibyendu/anaconda3/lib/python3.11/site-packages/IPython/terminal/interactiveshell.py\", line 48, in <module>\n",
      "    from .debugger import TerminalPdb, Pdb\n",
      "  File \"/Users/dibyendu/anaconda3/lib/python3.11/site-packages/IPython/terminal/debugger.py\", line 6, in <module>\n",
      "    from IPython.core.completer import IPCompleter\n",
      "  File \"/Users/dibyendu/anaconda3/lib/python3.11/site-packages/IPython/core/completer.py\", line 250, in <module>\n",
      "    import jedi\n",
      "  File \"/Users/dibyendu/anaconda3/lib/python3.11/site-packages/jedi/__init__.py\", line 32, in <module>\n",
      "    from jedi.api import Script, Interpreter, set_debug_function, preload_module\n",
      "  File \"/Users/dibyendu/anaconda3/lib/python3.11/site-packages/jedi/api/__init__.py\", line 13, in <module>\n",
      "    import parso\n",
      "  File \"/Users/dibyendu/anaconda3/lib/python3.11/site-packages/parso/__init__.py\", line 42, in <module>\n",
      "    from parso.grammar import Grammar, load_grammar\n",
      "  File \"/Users/dibyendu/anaconda3/lib/python3.11/site-packages/parso/grammar.py\", line 13, in <module>\n",
      "    from parso.cache import parser_cache, load_module, try_to_save_module\n",
      "  File \"/Users/dibyendu/anaconda3/lib/python3.11/site-packages/parso/cache.py\", line 76, in <module>\n",
      "    _default_cache_path = _get_default_cache_path()\n",
      "                          ^^^^^^^^^^^^^^^^^^^^^^^^^\n",
      "  File \"/Users/dibyendu/anaconda3/lib/python3.11/site-packages/parso/cache.py\", line 73, in _get_default_cache_path\n",
      "    return dir_.expanduser()\n",
      "           ^^^^^^^^^^^^^^^\n",
      "AttributeError: 'PosixPath' object has no attribute 'expanduser'\n"
     ]
    },
    {
     "ename": "SystemExit",
     "evalue": "1",
     "output_type": "error",
     "traceback": [
      "An exception has occurred, use %tb to see the full traceback.\n",
      "\u001b[0;31mSystemExit\u001b[0m\u001b[0;31m:\u001b[0m 1\n"
     ]
    },
    {
     "name": "stderr",
     "output_type": "stream",
     "text": [
      "/Users/dibyendu/anaconda3/lib/python3.11/site-packages/IPython/core/interactiveshell.py:3534: UserWarning: To exit: use 'exit', 'quit', or Ctrl-D.\n",
      "  warn(\"To exit: use 'exit', 'quit', or Ctrl-D.\", stacklevel=1)\n"
     ]
    }
   ],
   "source": [
    "if __name__ == '__main__':\n",
    "    app.run(debug=True)"
   ]
  }
 ],
 "metadata": {
  "kernelspec": {
   "display_name": "Python 3 (ipykernel)",
   "language": "python",
   "name": "python3"
  },
  "language_info": {
   "codemirror_mode": {
    "name": "ipython",
    "version": 3
   },
   "file_extension": ".py",
   "mimetype": "text/x-python",
   "name": "python",
   "nbconvert_exporter": "python",
   "pygments_lexer": "ipython3",
   "version": "3.11.5"
  }
 },
 "nbformat": 4,
 "nbformat_minor": 5
}
